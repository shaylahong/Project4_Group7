{
 "cells": [
  {
   "cell_type": "code",
   "execution_count": 1,
   "id": "39ecd07a",
   "metadata": {},
   "outputs": [],
   "source": [
    "import pandas as pd\n",
    "import numpy as np\n",
    "import matplotlib.pyplot as plt\n",
    "from scipy.stats import zscore"
   ]
  },
  {
   "cell_type": "code",
   "execution_count": 2,
   "id": "8fa3c9ee",
   "metadata": {},
   "outputs": [],
   "source": [
    "# Read csv\n",
    "df = pd.read_csv('Resources/data.csv', parse_dates=True, na_values={'price': 0, 'bedrooms': 0,})\n",
    "df.head()"
   ]
  },
  {
   "cell_type": "code",
   "execution_count": 3,
   "id": "4d4bb237",
   "metadata": {},
   "outputs": [],
   "source": [
    "df.tail()"
   ]
  },
  {
   "cell_type": "code",
   "execution_count": 4,
   "id": "cb5145fa",
   "metadata": {},
   "outputs": [],
   "source": [
    "df.info()"
   ]
  },
  {
   "cell_type": "code",
   "execution_count": 5,
   "id": "8ae01981",
   "metadata": {},
   "outputs": [],
   "source": [
    "df.describe()"
   ]
  },
  {
   "cell_type": "code",
   "execution_count": 6,
   "id": "e7ce4517",
   "metadata": {},
   "outputs": [],
   "source": [
    "# TO count number of NaN/null values in each column \n",
    "df.isna().sum()"
   ]
  },
  {
   "cell_type": "code",
   "execution_count": 7,
   "id": "8027285b",
   "metadata": {},
   "outputs": [],
   "source": [
    "df.dropna(inplace=True)"
   ]
  },
  {
   "cell_type": "code",
   "execution_count": 8,
   "id": "a5718b59",
   "metadata": {},
   "outputs": [],
   "source": [
    "# Dimensions \n",
    "df.shape"
   ]
  },
  {
   "cell_type": "code",
   "execution_count": 9,
   "id": "44e95550",
   "metadata": {},
   "outputs": [],
   "source": [
    "# Removing outliers using z-score calculations \n",
    "df['price_zscore'] = zscore(df['price'])\n",
    "df['sqft_living_zscre'] = zscore(df['sqft_living'])\n",
    "df['sqft_lot_zscre'] = zscore(df['sqft_lot'])\n",
    "df['sqft_above_zscre'] = zscore(df['sqft_above'])\n",
    "df['sqft_basement_zscre'] = zscore(df['sqft_basement'])\n",
    "\n",
    "df = df[(df.price_zscore < 3) & (df.price_zscore > -3)]\n",
    "df = df[(df.sqft_living_zscre < 3) & (df.sqft_living_zscre > -3)]\n",
    "df = df[(df.sqft_lot_zscre < 3) & (df.sqft_lot_zscre > -3)]\n",
    "df = df[(df.sqft_above_zscre < 3) & (df.sqft_above_zscre > -3)]\n",
    "df = df[(df.sqft_basement_zscre < 3) & (df.sqft_basement_zscre > -3)]"
   ]
  },
  {
   "cell_type": "code",
   "execution_count": 10,
   "id": "38c0c056",
   "metadata": {},
   "outputs": [],
   "source": [
    "df.drop(columns=['price_zscore','sqft_living_zscre','sqft_lot_zscre','sqft_above_zscre','sqft_basement_zscre'], inplace=True)"
   ]
  },
  {
   "cell_type": "code",
   "execution_count": 11,
   "id": "031cd5c2",
   "metadata": {},
   "outputs": [],
   "source": [
    "df.describe()"
   ]
  },
  {
   "cell_type": "code",
   "execution_count": 12,
   "id": "c926d5f7",
   "metadata": {},
   "outputs": [],
   "source": [
    "df[df['statezip'].str[0:2] != 'WA']"
   ]
  },
  {
   "cell_type": "code",
   "execution_count": 13,
   "id": "ea26434f",
   "metadata": {},
   "outputs": [],
   "source": [
    "df.drop(columns=[\"country\", \"statezip\",\"street\",'date','city'], inplace=True)"
   ]
  },
  {
   "cell_type": "code",
   "execution_count": 14,
   "id": "e01c7327",
   "metadata": {},
   "outputs": [],
   "source": [
    "df"
   ]
  },
  {
   "cell_type": "code",
   "execution_count": 15,
   "id": "24de536e",
   "metadata": {},
   "outputs": [],
   "source": [
    "%%writefile data_exploration_cleaning.py"
   ]
  },
  {
   "cell_type": "code",
   "execution_count": 16,
   "id": "7a06d628",
   "metadata": {},
   "outputs": [],
   "source": [
    "%notebook -e data_exploration_cleaning.ipynb"
   ]
  },
  {
   "cell_type": "code",
   "execution_count": 17,
   "id": "66a62617",
   "metadata": {},
   "outputs": [],
   "source": [
    "%notebook -e data_preprocessing.ipynb"
   ]
  },
  {
   "cell_type": "code",
   "execution_count": 18,
   "id": "9a4b4b6f",
   "metadata": {},
   "outputs": [],
   "source": [
    "%notebook data_exploration_cleaning.ipynb"
   ]
  },
  {
   "cell_type": "code",
   "execution_count": 19,
   "id": "a7acc709",
   "metadata": {},
   "outputs": [],
   "source": [
    "%notebook data_exploration_cleaning.ipynb"
   ]
  },
  {
   "cell_type": "code",
   "execution_count": 20,
   "id": "a19f09b0",
   "metadata": {},
   "outputs": [],
   "source": [
    "import pandas as pd\n",
    "import numpy as np\n",
    "import matplotlib.pyplot as plt\n",
    "from scipy.stats import zscore"
   ]
  },
  {
   "cell_type": "code",
   "execution_count": 21,
   "id": "10137b98",
   "metadata": {},
   "outputs": [],
   "source": [
    "# Read csv\n",
    "df = pd.read_csv('Resources/data.csv', parse_dates=True, na_values={'price': 0, 'bedrooms': 0,})\n",
    "df.head()"
   ]
  },
  {
   "cell_type": "code",
   "execution_count": 22,
   "id": "807df18b",
   "metadata": {},
   "outputs": [],
   "source": [
    "df.tail()"
   ]
  },
  {
   "cell_type": "code",
   "execution_count": 23,
   "id": "bada1e35",
   "metadata": {},
   "outputs": [],
   "source": [
    "df.info()"
   ]
  },
  {
   "cell_type": "code",
   "execution_count": 24,
   "id": "47d26e1b",
   "metadata": {},
   "outputs": [],
   "source": [
    "df.describe()"
   ]
  },
  {
   "cell_type": "code",
   "execution_count": 25,
   "id": "d2f42c9d",
   "metadata": {},
   "outputs": [],
   "source": [
    "# TO count number of NaN/null values in each column \n",
    "df.isna().sum()"
   ]
  },
  {
   "cell_type": "code",
   "execution_count": 26,
   "id": "044e92b4",
   "metadata": {},
   "outputs": [],
   "source": [
    "df.dropna(inplace=True)"
   ]
  },
  {
   "cell_type": "code",
   "execution_count": 27,
   "id": "5f60911c",
   "metadata": {},
   "outputs": [],
   "source": [
    "# Dimensions \n",
    "df.shape"
   ]
  },
  {
   "cell_type": "code",
   "execution_count": 28,
   "id": "ddd89199",
   "metadata": {},
   "outputs": [],
   "source": [
    "# Removing outliers using z-score calculations \n",
    "df['price_zscore'] = zscore(df['price'])\n",
    "df['sqft_living_zscre'] = zscore(df['sqft_living'])\n",
    "df['sqft_lot_zscre'] = zscore(df['sqft_lot'])\n",
    "df['sqft_above_zscre'] = zscore(df['sqft_above'])\n",
    "df['sqft_basement_zscre'] = zscore(df['sqft_basement'])\n",
    "\n",
    "df = df[(df.price_zscore < 3) & (df.price_zscore > -3)]\n",
    "df = df[(df.sqft_living_zscre < 3) & (df.sqft_living_zscre > -3)]\n",
    "df = df[(df.sqft_lot_zscre < 3) & (df.sqft_lot_zscre > -3)]\n",
    "df = df[(df.sqft_above_zscre < 3) & (df.sqft_above_zscre > -3)]\n",
    "df = df[(df.sqft_basement_zscre < 3) & (df.sqft_basement_zscre > -3)]"
   ]
  },
  {
   "cell_type": "code",
   "execution_count": 29,
   "id": "c50a3b21",
   "metadata": {},
   "outputs": [],
   "source": [
    "df.drop(columns=['price_zscore','sqft_living_zscre','sqft_lot_zscre','sqft_above_zscre','sqft_basement_zscre'], inplace=True)"
   ]
  },
  {
   "cell_type": "code",
   "execution_count": 30,
   "id": "b9c71107",
   "metadata": {},
   "outputs": [],
   "source": [
    "df.describe()"
   ]
  },
  {
   "cell_type": "code",
   "execution_count": 31,
   "id": "2a38d0b3",
   "metadata": {},
   "outputs": [],
   "source": [
    "df[df['statezip'].str[0:2] != 'WA']"
   ]
  },
  {
   "cell_type": "code",
   "execution_count": 32,
   "id": "7528db38",
   "metadata": {},
   "outputs": [],
   "source": [
    "df.drop(columns=[\"country\", \"statezip\",\"street\",'date','city'], inplace=True)"
   ]
  },
  {
   "cell_type": "code",
   "execution_count": 33,
   "id": "60fa0faa",
   "metadata": {},
   "outputs": [],
   "source": [
    "df"
   ]
  },
  {
   "cell_type": "code",
   "execution_count": 34,
   "id": "35266c5f",
   "metadata": {},
   "outputs": [],
   "source": [
    "%%writefile data_exploration_cleaning.py"
   ]
  },
  {
   "cell_type": "code",
   "execution_count": 35,
   "id": "d8bf1654",
   "metadata": {},
   "outputs": [],
   "source": [
    "%notebook -e data_exploration_cleaning.ipynb"
   ]
  },
  {
   "cell_type": "code",
   "execution_count": 36,
   "id": "5e1b9027",
   "metadata": {},
   "outputs": [],
   "source": [
    "%notebook -e data_preprocessing.ipynb"
   ]
  },
  {
   "cell_type": "code",
   "execution_count": 37,
   "id": "f5796f03",
   "metadata": {},
   "outputs": [],
   "source": [
    "%notebook data_exploration_cleaning.ipynb"
   ]
  },
  {
   "cell_type": "code",
   "execution_count": 38,
   "id": "5a4c831d",
   "metadata": {},
   "outputs": [],
   "source": [
    "import pandas as pd\n",
    "import numpy as np\n",
    "import matplotlib.pyplot as plt\n",
    "from scipy.stats import zscore"
   ]
  },
  {
   "cell_type": "code",
   "execution_count": 39,
   "id": "b0fe969c",
   "metadata": {},
   "outputs": [],
   "source": [
    "# Read csv\n",
    "df = pd.read_csv('Resources/data.csv', parse_dates=True, na_values={'price': 0, 'bedrooms': 0,})\n",
    "df.head()"
   ]
  },
  {
   "cell_type": "code",
   "execution_count": 40,
   "id": "a2a25547",
   "metadata": {},
   "outputs": [],
   "source": [
    "df.tail()"
   ]
  },
  {
   "cell_type": "code",
   "execution_count": 41,
   "id": "082e3f06",
   "metadata": {},
   "outputs": [],
   "source": [
    "df.info()"
   ]
  },
  {
   "cell_type": "code",
   "execution_count": 42,
   "id": "3db15b7b",
   "metadata": {},
   "outputs": [],
   "source": [
    "df.describe()"
   ]
  },
  {
   "cell_type": "code",
   "execution_count": 43,
   "id": "4cdf06df",
   "metadata": {},
   "outputs": [],
   "source": [
    "# TO count number of NaN/null values in each column \n",
    "df.isna().sum()"
   ]
  },
  {
   "cell_type": "code",
   "execution_count": 44,
   "id": "3e94cb8b",
   "metadata": {},
   "outputs": [],
   "source": [
    "df.dropna(inplace=True)"
   ]
  },
  {
   "cell_type": "code",
   "execution_count": 45,
   "id": "167a36ea",
   "metadata": {},
   "outputs": [],
   "source": [
    "# Dimensions \n",
    "df.shape"
   ]
  },
  {
   "cell_type": "code",
   "execution_count": 46,
   "id": "3ccf0c86",
   "metadata": {},
   "outputs": [],
   "source": [
    "# Removing outliers using z-score calculations \n",
    "df['price_zscore'] = zscore(df['price'])\n",
    "df['sqft_living_zscre'] = zscore(df['sqft_living'])\n",
    "df['sqft_lot_zscre'] = zscore(df['sqft_lot'])\n",
    "df['sqft_above_zscre'] = zscore(df['sqft_above'])\n",
    "df['sqft_basement_zscre'] = zscore(df['sqft_basement'])\n",
    "\n",
    "df = df[(df.price_zscore < 3) & (df.price_zscore > -3)]\n",
    "df = df[(df.sqft_living_zscre < 3) & (df.sqft_living_zscre > -3)]\n",
    "df = df[(df.sqft_lot_zscre < 3) & (df.sqft_lot_zscre > -3)]\n",
    "df = df[(df.sqft_above_zscre < 3) & (df.sqft_above_zscre > -3)]\n",
    "df = df[(df.sqft_basement_zscre < 3) & (df.sqft_basement_zscre > -3)]"
   ]
  },
  {
   "cell_type": "code",
   "execution_count": 47,
   "id": "a9c89df6",
   "metadata": {},
   "outputs": [],
   "source": [
    "df.drop(columns=['price_zscore','sqft_living_zscre','sqft_lot_zscre','sqft_above_zscre','sqft_basement_zscre'], inplace=True)"
   ]
  },
  {
   "cell_type": "code",
   "execution_count": 48,
   "id": "b94d47d4",
   "metadata": {},
   "outputs": [],
   "source": [
    "df.describe()"
   ]
  },
  {
   "cell_type": "code",
   "execution_count": 49,
   "id": "edf959dd",
   "metadata": {},
   "outputs": [],
   "source": [
    "df[df['statezip'].str[0:2] != 'WA']"
   ]
  },
  {
   "cell_type": "code",
   "execution_count": 50,
   "id": "692da7fb",
   "metadata": {},
   "outputs": [],
   "source": [
    "df.drop(columns=[\"country\", \"statezip\",\"street\",'date','city'], inplace=True)"
   ]
  },
  {
   "cell_type": "code",
   "execution_count": 51,
   "id": "9d434a86",
   "metadata": {},
   "outputs": [],
   "source": [
    "df"
   ]
  },
  {
   "cell_type": "code",
   "execution_count": 52,
   "id": "50126626",
   "metadata": {},
   "outputs": [],
   "source": [
    "%%writefile data_exploration_cleaning.py"
   ]
  },
  {
   "cell_type": "code",
   "execution_count": 53,
   "id": "016bf25d",
   "metadata": {},
   "outputs": [],
   "source": [
    "%notebook -e data_exploration_cleaning.ipynb"
   ]
  },
  {
   "cell_type": "code",
   "execution_count": 54,
   "id": "0d2793f5",
   "metadata": {},
   "outputs": [],
   "source": [
    "%notebook -e data_preprocessing.ipynb"
   ]
  },
  {
   "cell_type": "code",
   "execution_count": 55,
   "id": "d61775cc",
   "metadata": {},
   "outputs": [],
   "source": [
    "%notebook data_exploration_cleaning.ipynb"
   ]
  }
 ],
 "metadata": {},
 "nbformat": 4,
 "nbformat_minor": 5
}
